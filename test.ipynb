{
 "cells": [
  {
   "cell_type": "code",
   "execution_count": 7,
   "metadata": {},
   "outputs": [
    {
     "name": "stdout",
     "output_type": "stream",
     "text": [
      "随机采样的结果: 0.3322218656539917\n"
     ]
    }
   ],
   "source": [
    "import torch\n",
    "import torch.distributions as tdist\n",
    "\n",
    "# 创建一个均匀分布的概率分布对象，范围是 [0.0, 1.0]\n",
    "uniform_dist = tdist.Uniform(torch.tensor([0.0]), torch.tensor([1.0]))\n",
    "\n",
    "# 从均匀分布中采样一个随机数\n",
    "sample = uniform_dist.sample()\n",
    "\n",
    "print(\"随机采样的结果:\", sample.item())\n"
   ]
  }
 ],
 "metadata": {
  "kernelspec": {
   "display_name": "sfy",
   "language": "python",
   "name": "python3"
  },
  "language_info": {
   "codemirror_mode": {
    "name": "ipython",
    "version": 3
   },
   "file_extension": ".py",
   "mimetype": "text/x-python",
   "name": "python",
   "nbconvert_exporter": "python",
   "pygments_lexer": "ipython3",
   "version": "3.8.18"
  }
 },
 "nbformat": 4,
 "nbformat_minor": 2
}
